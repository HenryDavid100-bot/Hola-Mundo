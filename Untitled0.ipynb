{
  "nbformat": 4,
  "nbformat_minor": 0,
  "metadata": {
    "colab": {
      "provenance": [],
      "authorship_tag": "ABX9TyNn4WtHGeWUvFO0r3g5xF7X",
      "include_colab_link": true
    },
    "kernelspec": {
      "name": "python3",
      "display_name": "Python 3"
    },
    "language_info": {
      "name": "python"
    }
  },
  "cells": [
    {
      "cell_type": "markdown",
      "metadata": {
        "id": "view-in-github",
        "colab_type": "text"
      },
      "source": [
        "<a href=\"https://colab.research.google.com/github/HenryDavid100-bot/Hola-Mundo/blob/main/Untitled0.ipynb\" target=\"_parent\"><img src=\"https://colab.research.google.com/assets/colab-badge.svg\" alt=\"Open In Colab\"/></a>"
      ]
    },
    {
      "cell_type": "code",
      "execution_count": null,
      "metadata": {
        "id": "l8dVv4lGAXS0"
      },
      "outputs": [],
      "source": [
        "mi primer script"
      ]
    },
    {
      "cell_type": "markdown",
      "source": [
        "Para hacer el programa, hay que usar print"
      ],
      "metadata": {
        "id": "OtKjKRRzAs3X"
      }
    },
    {
      "cell_type": "code",
      "source": [
        "print(\"hola mundo\")"
      ],
      "metadata": {
        "id": "zhn0rFH2AkRq"
      },
      "execution_count": null,
      "outputs": []
    }
  ]
}